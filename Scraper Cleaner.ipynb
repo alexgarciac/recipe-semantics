{
 "cells": [
  {
   "cell_type": "markdown",
   "metadata": {},
   "source": [
    "notebook to clean up the results of the scraper"
   ]
  },
  {
   "cell_type": "code",
   "execution_count": 14,
   "metadata": {
    "collapsed": true
   },
   "outputs": [],
   "source": [
    "import json\n",
    "\n",
    "with open('bigoven.json') as f:\n",
    "    data = json.load(f)"
   ]
  },
  {
   "cell_type": "code",
   "execution_count": 15,
   "metadata": {
    "collapsed": false
   },
   "outputs": [],
   "source": [
    "# Certain sources were particularly messy or just linked to a website.\n",
    "banned = ['bigoven', 'Instructions are at http', 'REC.FOOD.RECIPES', 'rec.food.recipes']\n",
    "cleaned = [d for d in data if not any([any(filter(lambda s: b in s, d['instructions'])) for b in banned])]\n",
    "\n",
    "# My scraper split on \\n, but a lot of the recipes are all on one line. Split into sentences.\n",
    "from nltk.tokenize import sent_tokenize\n",
    "for i,recipe in enumerate(cleaned):\n",
    "    recipe['instructions'] = [sentence for step_list in [sent_tokenize(step) for step in recipe['instructions']] for sentence in step_list]\n",
    "    #[sentence + '.' for step in recipe['instructions'] for sentence in map(str.strip, line.split('.'))]\n",
    "    cleaned[i] = recipe\n",
    "\n",
    "# Some recipes numbered their steps.\n",
    "import re\n",
    "r = re.compile('^[0-9]{1,2}.$')\n",
    "for i,recipe in enumerate(cleaned):\n",
    "    recipe['instructions'] = [s for s in recipe['instructions'] if not r.match(s)]"
   ]
  },
  {
   "cell_type": "code",
   "execution_count": 16,
   "metadata": {
    "collapsed": false
   },
   "outputs": [
    {
     "name": "stdout",
     "output_type": "stream",
     "text": [
      "11019\n",
      "12525\n"
     ]
    }
   ],
   "source": [
    "print len(cleaned)\n",
    "print len(data)"
   ]
  },
  {
   "cell_type": "code",
   "execution_count": 17,
   "metadata": {
    "collapsed": false
   },
   "outputs": [],
   "source": [
    "with open('bigoven_cleaned.json', 'w') as f:\n",
    "    json.dump(cleaned, f, sort_keys=True, indent=4)"
   ]
  },
  {
   "cell_type": "code",
   "execution_count": null,
   "metadata": {
    "collapsed": true
   },
   "outputs": [],
   "source": []
  }
 ],
 "metadata": {
  "kernelspec": {
   "display_name": "Python 2",
   "language": "python",
   "name": "python2"
  },
  "language_info": {
   "codemirror_mode": {
    "name": "ipython",
    "version": 2
   },
   "file_extension": ".py",
   "mimetype": "text/x-python",
   "name": "python",
   "nbconvert_exporter": "python",
   "pygments_lexer": "ipython2",
   "version": "2.7.9"
  }
 },
 "nbformat": 4,
 "nbformat_minor": 0
}
